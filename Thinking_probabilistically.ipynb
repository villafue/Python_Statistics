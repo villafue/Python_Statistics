{
  "nbformat": 4,
  "nbformat_minor": 0,
  "metadata": {
    "colab": {
      "name": "Thinking probabilistically.ipynb",
      "provenance": [],
      "toc_visible": true,
      "authorship_tag": "ABX9TyO5MJojNJkwWQV+TE/4mDEj",
      "include_colab_link": true
    },
    "kernelspec": {
      "name": "python3",
      "display_name": "Python 3"
    }
  },
  "cells": [
    {
      "cell_type": "markdown",
      "metadata": {
        "id": "view-in-github",
        "colab_type": "text"
      },
      "source": [
        "<a href=\"https://colab.research.google.com/github/villafue/Python_Statistics/blob/master/Thinking_probabilistically.ipynb\" target=\"_parent\"><img src=\"https://colab.research.google.com/assets/colab-badge.svg\" alt=\"Open In Colab\"/></a>"
      ]
    },
    {
      "cell_type": "markdown",
      "metadata": {
        "id": "tjvBZ6AZbZpF",
        "colab_type": "text"
      },
      "source": [
        "# Generating random numbers using the np.random module\n",
        "We will be hammering the np.random module for the rest of this course and its sequel. Actually, you will probably call functions from this module more than any other while wearing your hacker statistician hat. Let's start by taking its simplest function, np.random.random() for a test spin. The function returns a random number between zero and one. Call np.random.random() a few times in the IPython shell. You should see numbers jumping around between zero and one.\n",
        "\n",
        "In this exercise, we'll generate lots of random numbers between zero and one, and then plot a histogram of the results. If the numbers are truly random, all bars in the histogram should be of (close to) equal height.\n",
        "\n",
        "You may have noticed that, in the video, Justin generated 4 random numbers by passing the keyword argument size=4 to np.random.random(). Such an approach is more efficient than a for loop: in this exercise, however, you will write a for loop to experience hacker statistics as the practice of repeating an experiment over and over again."
      ]
    },
    {
      "cell_type": "code",
      "metadata": {
        "id": "5wJJ7c8qbBj4",
        "colab_type": "code",
        "colab": {}
      },
      "source": [
        "# Seed the random number generator\n",
        "np.random.seed(42)\n",
        "\n",
        "# Initialize random numbers: random_numbers\n",
        "random_numbers = np.empty(100000)\n",
        "\n",
        "# Generate random numbers by looping over range(100000)\n",
        "for i in range(100000):\n",
        "    random_numbers[i] = np.random.random()\n",
        "\n",
        "# Plot a histogram\n",
        "_ = plt.hist(random_numbers)\n",
        "\n",
        "# Show the plot\n",
        "plt.show()"
      ],
      "execution_count": null,
      "outputs": []
    },
    {
      "cell_type": "markdown",
      "metadata": {
        "id": "BV7JD4vCbn8Y",
        "colab_type": "text"
      },
      "source": [
        "# The np.random module and Bernoulli trials\n",
        "You can think of a Bernoulli trial as a flip of a possibly biased coin. Specifically, each coin flip has a probability p of landing heads (success) and probability 1−p of landing tails (failure). In this exercise, you will write a function to perform n Bernoulli trials, perform_bernoulli_trials(n, p), which returns the number of successes out of n Bernoulli trials, each of which has probability p of success. To perform each Bernoulli trial, use the np.random.random() function, which returns a random number between zero and one."
      ]
    },
    {
      "cell_type": "code",
      "metadata": {
        "id": "mF7oG72ubs2c",
        "colab_type": "code",
        "colab": {}
      },
      "source": [
        "def perform_bernoulli_trials(n, p):\n",
        "    \"\"\"Perform n Bernoulli trials with success probability p\n",
        "    and return number of successes.\"\"\"\n",
        "    # Initialize number of successes: n_success\n",
        "    n_success = 0\n",
        "\n",
        "    # Perform trials\n",
        "    for i in range(n):\n",
        "        # Choose random number between zero and one: random_number\n",
        "        random_number = np.random.random()\n",
        "\n",
        "        # If less than p, it's a success so add one to n_success\n",
        "        if random_number < p:\n",
        "            n_success += 1\n",
        "\n",
        "    return n_success"
      ],
      "execution_count": null,
      "outputs": []
    },
    {
      "cell_type": "markdown",
      "metadata": {
        "id": "L-mWfM_2b7aY",
        "colab_type": "text"
      },
      "source": [
        "# How many defaults might we expect?\n",
        "Let's say a bank made 100 mortgage loans. It is possible that anywhere between 0 and 100 of the loans will be defaulted upon. You would like to know the probability of getting a given number of defaults, given that the probability of a default is p = 0.05. To investigate this, you will do a simulation. You will perform 100 Bernoulli trials using the perform_bernoulli_trials() function you wrote in the previous exercise and record how many defaults we get. Here, a success is a default. (Remember that the word \"success\" just means that the Bernoulli trial evaluates to True, i.e., did the loan recipient default?) You will do this for another 100 Bernoulli trials. And again and again until we have tried it 1000 times. Then, you will plot a histogram describing the probability of the number of defaults."
      ]
    },
    {
      "cell_type": "code",
      "metadata": {
        "id": "ga1fpefCb_p8",
        "colab_type": "code",
        "colab": {}
      },
      "source": [
        "# Seed random number generator\n",
        "np.random.seed(42)\n",
        "\n",
        "# Initialize the number of defaults: n_defaults\n",
        "n_defaults = np.empty(1000)\n",
        "\n",
        "# Compute the number of defaults\n",
        "for i in range(1000):\n",
        "    n_defaults[i] = perform_bernoulli_trials(100, 0.05)\n",
        "\n",
        "# Plot the histogram with default number of bins; label your axes\n",
        "_ = plt.hist(n_defaults, normed=True)\n",
        "_ = plt.xlabel('number of defaults out of 100 loans')\n",
        "_ = plt.ylabel('probability')\n",
        "\n",
        "# Show the plot\n",
        "plt.show()"
      ],
      "execution_count": null,
      "outputs": []
    },
    {
      "cell_type": "markdown",
      "metadata": {
        "id": "Ly-5zG3wcDSk",
        "colab_type": "text"
      },
      "source": [
        "# Will the bank fail?\n",
        "Plot the number of defaults you got from the previous exercise, in your namespace as n_defaults, as a CDF. The ecdf() function you wrote in the first chapter is available.\n",
        "\n",
        "If interest rates are such that the bank will lose money if 10 or more of its loans are defaulted upon, what is the probability that the bank will lose money?"
      ]
    },
    {
      "cell_type": "code",
      "metadata": {
        "id": "MXtpAnkZcG0C",
        "colab_type": "code",
        "colab": {}
      },
      "source": [
        "# Initialize the number of defaults: n_defaults\n",
        "n_defaults = np.empty(1000)\n",
        "\n",
        "# Compute the number of defaults\n",
        "for i in range(1000):\n",
        "    n_defaults[i] = perform_bernoulli_trials(100, 0.05)\n",
        "\n",
        "def ecdf(data):\n",
        "    \"\"\"Compute ECDF for a one-dimensional array of measurements.\"\"\"\n",
        "    # Number of data points: n\n",
        "    n = len(data)\n",
        "\n",
        "    # x-data for the ECDF: x\n",
        "    x = np.sort(data)\n",
        "\n",
        "    # y-data for the ECDF: y\n",
        "    y = np.arange(1, n+1) / n\n",
        "\n",
        "    return x, y\n",
        "\n",
        "# Compute ECDF: x, y\n",
        "x, y = ecdf(n_defaults)\n",
        "\n",
        "# Plot the ECDF with labeled axes\n",
        "_ = plt.plot(x, y, marker = '.', linestyle = 'none')\n",
        "_ = plt.xlabel('# of Defaults')\n",
        "_ = plt.ylabel('Percentage Probability')\n",
        "\n",
        "# Show the plot\n",
        "plt.show()\n",
        "\n",
        "# Compute the number of 100-loan simulations with 10 or more defaults: n_lose_money\n",
        "n_lose_money = np.sum(n_defaults >= 10)\n",
        "\n",
        "# Compute and print probability of losing money\n",
        "print('Probability of losing money =', n_lose_money / len(n_defaults))"
      ],
      "execution_count": null,
      "outputs": []
    },
    {
      "cell_type": "markdown",
      "metadata": {
        "id": "XWXBMsxgd1jB",
        "colab_type": "text"
      },
      "source": [
        "# Sampling out of the Binomial distribution\n",
        "Compute the probability mass function for the number of defaults we would expect for 100 loans as in the last section, but instead of simulating all of the Bernoulli trials, perform the sampling using np.random.binomial(). This is identical to the calculation you did in the last set of exercises using your custom-written perform_bernoulli_trials() function, but far more computationally efficient. Given this extra efficiency, we will take 10,000 samples instead of 1000. After taking the samples, plot the CDF as last time. This CDF that you are plotting is that of the Binomial distribution.\n",
        "\n",
        "Note: For this exercise and all going forward, the random number generator is pre-seeded for you (with np.random.seed(42)) to save you typing that each time."
      ]
    },
    {
      "cell_type": "code",
      "metadata": {
        "id": "Ek3_2nrld4Ft",
        "colab_type": "code",
        "colab": {}
      },
      "source": [
        "# Take 10,000 samples out of the binomial distribution: n_defaults\n",
        "n_defaults = np.random.binomial(n=100,p=0.05,size=10000)\n",
        "\n",
        "def ecdf(data):\n",
        "    \"\"\"Compute ECDF for a one-dimensional array of measurements.\"\"\"\n",
        "    # Number of data points: n\n",
        "    n = len(data)\n",
        "\n",
        "    # x-data for the ECDF: x\n",
        "    x = np.sort(data)\n",
        "\n",
        "    # y-data for the ECDF: y\n",
        "    y = np.arange(1, n+1) / n\n",
        "\n",
        "    return x, y\n",
        "    \n",
        "# Compute CDF: x, y\n",
        "x, y = ecdf(n_defaults)\n",
        "\n",
        "# Plot the CDF with axis labels\n",
        "_ = plt.plot(x, y, marker = '.', linestyle = 'none')\n",
        "plt.margins(0.02)\n",
        "_ = plt.xlabel('number of defaults out of 100')\n",
        "_ = plt.ylabel('CDF')\n",
        "\n",
        "# Show the plot\n",
        "plt.show()"
      ],
      "execution_count": null,
      "outputs": []
    },
    {
      "cell_type": "markdown",
      "metadata": {
        "id": "rlIucu2Nd7rN",
        "colab_type": "text"
      },
      "source": [
        "# Plotting the Binomial PMF (Bins per Integer for Histogram)\n",
        "As mentioned in the video, plotting a nice looking PMF requires a bit of matplotlib trickery that we will not go into here. Instead, we will plot the PMF of the Binomial distribution as a histogram with skills you have already learned. The trick is setting up the edges of the bins to pass to plt.hist() via the bins keyword argument. We want the bins centered on the integers. So, the edges of the bins should be -0.5, 0.5, 1.5, 2.5, ... up to max(n_defaults) + 1.5. You can generate an array like this using np.arange() and then subtracting 0.5 from the array.\n",
        "\n",
        "You have already sampled out of the Binomial distribution during your exercises on loan defaults, and the resulting samples are in the NumPy array n_defaults."
      ]
    },
    {
      "cell_type": "code",
      "metadata": {
        "id": "MzLUk4ezeR1z",
        "colab_type": "code",
        "colab": {}
      },
      "source": [
        "# Initialize the number of defaults: n_defaults\n",
        "n_defaults = np.empty(1000)\n",
        "\n",
        "# Compute the number of defaults\n",
        "for i in range(1000):\n",
        "    n_defaults[i] = perform_bernoulli_trials(100, 0.05)\n",
        "\n",
        "# Compute bin edges: bins\n",
        "bins = np.arange(0, max(n_defaults) + 1.5) - 0.5\n",
        "\n",
        "# Generate histogram\n",
        "_ = plt.hist(n_defaults, normed=True, bins=bins)\n",
        "\n",
        "# Label axes\n",
        "_ = plt.xlabel('Number of Defaults')\n",
        "_ = plt.ylabel('Binomial PMF')\n",
        "\n",
        "# Show the plot\n",
        "plt.show()"
      ],
      "execution_count": null,
      "outputs": []
    },
    {
      "cell_type": "markdown",
      "metadata": {
        "id": "0uYPPAu5fgpY",
        "colab_type": "text"
      },
      "source": [
        "# Relationship between Binomial and Poisson distributions\n",
        "You just heard that the Poisson distribution is a limit of the Binomial distribution for rare events. This makes sense if you think about the stories. Say we do a Bernoulli trial every minute for an hour, each with a success probability of 0.1. We would do 60 trials, and the number of successes is Binomially distributed, and we would expect to get about 6 successes. This is just like the Poisson story we discussed in the video, where we get on average 6 hits on a website per hour. So, the Poisson distribution with arrival rate equal to np approximates a Binomial distribution for n Bernoulli trials with probability p of success (with n large and p small). Importantly, the Poisson distribution is often simpler to work with because it has only one parameter instead of two for the Binomial distribution.\n",
        "\n",
        "Let's explore these two distributions computationally. You will compute the mean and standard deviation of samples from a Poisson distribution with an arrival rate of 10. Then, you will compute the mean and standard deviation of samples from a Binomial distribution with parameters n and p such that np=10."
      ]
    },
    {
      "cell_type": "code",
      "metadata": {
        "id": "TDXBvGVJfp4v",
        "colab_type": "code",
        "colab": {}
      },
      "source": [
        "# Draw 10,000 samples out of Poisson distribution: samples_poisson\n",
        "samples_poisson = np.random.poisson(10, size = 10000)\n",
        "\n",
        "# Print the mean and standard deviation\n",
        "print('Poisson:     ', np.mean(samples_poisson),\n",
        "                       np.std(samples_poisson))\n",
        "\n",
        "# Specify values of n and p to consider for Binomial: n, p\n",
        "n = [20, 100, 1000]\n",
        "p = [0.5, 0.1, 0.01]\n",
        "\n",
        "\n",
        "# Draw 10,000 samples for each n,p pair: samples_binomial\n",
        "for i in range(3):\n",
        "    samples_binomial = np.random.binomial(n[i], p[i], size = 10000)\n",
        "\n",
        "    # Print results\n",
        "    print('n =', n[i], 'Binom:', np.mean(samples_binomial),\n",
        "                                 np.std(samples_binomial))\n"
      ],
      "execution_count": null,
      "outputs": []
    },
    {
      "cell_type": "markdown",
      "metadata": {
        "id": "0UQM_APeek_b",
        "colab_type": "text"
      },
      "source": [
        "# How many no-hitters in a season?\n",
        "In baseball, a no-hitter is a game in which a pitcher does not allow the other team to get a hit. This is a rare event, and since the beginning of the so-called modern era of baseball (starting in 1901), there have only been 251 of them through the 2015 season in over 200,000 games. The ECDF of the number of no-hitters in a season is shown to the right. Which probability distribution would be appropriate to describe the number of no-hitters we would expect in a given season?\n",
        "\n",
        "_A:_ Both Binomial and Poisson, though Poisson is easier to model and compute."
      ]
    },
    {
      "cell_type": "markdown",
      "metadata": {
        "id": "_n2JMqg2gSY2",
        "colab_type": "text"
      },
      "source": [
        "# Was 2015 anomalous?\n",
        "\n",
        "1990 and 2015 featured the most no-hitters of any season of baseball (there were seven). Given that there are on average 251/115 no-hitters per season, what is the probability of having seven or more in a season?"
      ]
    },
    {
      "cell_type": "code",
      "metadata": {
        "id": "MWtfUq8cgYWW",
        "colab_type": "code",
        "colab": {}
      },
      "source": [
        "# Draw 10,000 samples out of Poisson distribution: n_nohitters\n",
        "n_nohitters = np.random.poisson(251/115, size=10000)\n",
        "\n",
        "# Compute number of samples that are seven or greater: n_large\n",
        "n_large = np.sum(n_nohitters >= 7)\n",
        "\n",
        "# Compute probability of getting seven or more: p_large\n",
        "p_large = n_large / 10000\n",
        "\n",
        "# Print the result\n",
        "print('Probability of seven or more no-hitters:', p_large)"
      ],
      "execution_count": null,
      "outputs": []
    },
    {
      "cell_type": "markdown",
      "metadata": {
        "id": "t48icaOZkCfw",
        "colab_type": "text"
      },
      "source": [
        "# The Normal PDF\n",
        "In this exercise, you will explore the Normal PDF and also learn a way to plot a PDF of a known distribution using hacker statistics. Specifically, you will plot a Normal PDF for various values of the variance."
      ]
    },
    {
      "cell_type": "code",
      "metadata": {
        "id": "d5RMx4MmkFjy",
        "colab_type": "code",
        "colab": {}
      },
      "source": [
        "# Draw 100000 samples from Normal distribution with stds of interest: samples_std1, samples_std3, samples_std10\n",
        "samples_std1 = np.random.normal(20, 1, size=100000)\n",
        "samples_std3 = np.random.normal(20, 3, size=100000)\n",
        "samples_std10 = np.random.normal(20, 10, size=100000)\n",
        "\n",
        "# Make histograms\n",
        "_ = plt.hist(samples_std1, normed=True, histtype='step', bins=100)\n",
        "_ = plt.hist(samples_std3, normed=True, histtype='step', bins=100)\n",
        "_ = plt.hist(samples_std10, normed=True, histtype='step', bins=100)\n",
        "# Make a legend, set limits and show plot\n",
        "_ = plt.legend(('std = 1', 'std = 3', 'std = 10'))\n",
        "plt.ylim(-0.01, 0.42)\n",
        "plt.show()"
      ],
      "execution_count": null,
      "outputs": []
    },
    {
      "cell_type": "markdown",
      "metadata": {
        "id": "7h5cmehikOvx",
        "colab_type": "text"
      },
      "source": [
        "# The Normal CDF\n",
        "Now that you have a feel for how the Normal PDF looks, let's consider its CDF. Using the samples you generated in the last exercise (in your namespace as samples_std1, samples_std3, and samples_std10), generate and plot the CDFs."
      ]
    },
    {
      "cell_type": "code",
      "metadata": {
        "id": "A4Tyaz8UkV8h",
        "colab_type": "code",
        "colab": {}
      },
      "source": [
        "# Draw 100000 samples from Normal distribution with stds of interest: samples_std1, samples_std3, samples_std10\n",
        "samples_std1 = np.random.normal(20, 1, size=100000)\n",
        "samples_std3 = np.random.normal(20, 3, size=100000)\n",
        "samples_std10 = np.random.normal(20, 10, size=100000)\n",
        "\n",
        "def ecdf(data):\n",
        "    \"\"\"Compute ECDF for a one-dimensional array of measurements.\"\"\"\n",
        "    # Number of data points: n\n",
        "    n = len(data)\n",
        "\n",
        "    # x-data for the ECDF: x\n",
        "    x = np.sort(data)\n",
        "\n",
        "    # y-data for the ECDF: y\n",
        "    y = np.arange(1, n+1) / n\n",
        "\n",
        "    return x, y\n",
        "\n",
        "# Generate CDFs\n",
        "x_std1, y_std1 = ecdf(samples_std1)\n",
        "x_std3, y_std3 = ecdf(samples_std3)\n",
        "x_std10, y_std10 = ecdf(samples_std10)\n",
        "\n",
        "# Plot CDFs\n",
        "plt.plot(x_std1, y_std1, marker = '.', linestyle = 'none')\n",
        "plt.plot(x_std3, y_std3, marker = '.', linestyle = 'none')\n",
        "plt.plot(x_std10, y_std10, marker = '.', linestyle = 'none')\n",
        "\n",
        "# Make a legend and show the plot\n",
        "_ = plt.legend(('std = 1', 'std = 3', 'std = 10'), loc='lower right')\n",
        "plt.show()"
      ],
      "execution_count": null,
      "outputs": []
    },
    {
      "cell_type": "markdown",
      "metadata": {
        "id": "Kvgr-arekrbX",
        "colab_type": "text"
      },
      "source": [
        "# Are the Belmont Stakes results Normally distributed?\n",
        "\n",
        "Since 1926, the Belmont Stakes is a 1.5 mile-long race of 3-year old thoroughbred horses. Secretariat ran the fastest Belmont Stakes in history in 1973. While that was the fastest year, 1970 was the slowest because of unusually wet and sloppy conditions. With these two outliers removed from the data set, compute the mean and standard deviation of the Belmont winners' times. Sample out of a Normal distribution with this mean and standard deviation using the np.random.normal() function and plot a CDF. Overlay the ECDF from the winning Belmont times. Are these close to Normally distributed?"
      ]
    },
    {
      "cell_type": "code",
      "metadata": {
        "id": "K824ojzRmGOo",
        "colab_type": "code",
        "colab": {}
      },
      "source": [
        "'''\n",
        "Template to compute theoritcal ECDF to actual ECDF to check normalcy\n",
        "'''\n",
        "# Compute mean and standard deviation: mu, sigma\n",
        "mu = np.mean(belmont_no_outliers)\n",
        "sigma = np.std(belmont_no_outliers)\n",
        "\n",
        "# Sample out of a normal distribution with this mu and sigma: samples\n",
        "samples = np.random.normal(mu, sigma, size=10000)\n",
        "\n",
        "# Get the CDF of the samples and of the data\n",
        "x_theor, y_theor = ecdf(samples)\n",
        "x, y = ecdf(belmont_no_outliers)\n",
        "\n",
        "# Plot the CDFs and show the plot\n",
        "_ = plt.plot(x_theor, y_theor)\n",
        "_ = plt.plot(x, y, marker='.', linestyle='none')\n",
        "_ = plt.xlabel('Belmont winning time (sec.)')\n",
        "_ = plt.ylabel('CDF')\n",
        "plt.show()"
      ],
      "execution_count": null,
      "outputs": []
    },
    {
      "cell_type": "markdown",
      "metadata": {
        "id": "Lp01OjK9mIdF",
        "colab_type": "text"
      },
      "source": [
        "# What are the chances of a horse matching or beating Secretariat's record?\n",
        "Assume that the Belmont winners' times are Normally distributed (with the 1970 and 1973 years removed), what is the probability that the winner of a given Belmont Stakes will run it as fast or faster than Secretariat?"
      ]
    },
    {
      "cell_type": "code",
      "metadata": {
        "id": "6cs54h1ZmSuI",
        "colab_type": "code",
        "colab": {}
      },
      "source": [
        "# Take a million samples out of the Normal distribution: samples\n",
        "samples = np.random.normal(mu, sigma, size = 1000000)\n",
        "\n",
        "# Compute the fraction that are faster than 144 seconds: prob\n",
        "prob = np.sum(samples <= 144) / len(samples)\n",
        "\n",
        "# Print the result\n",
        "print('Probability of besting Secretariat:', prob)"
      ],
      "execution_count": null,
      "outputs": []
    },
    {
      "cell_type": "markdown",
      "metadata": {
        "id": "WjClwjywm7OD",
        "colab_type": "text"
      },
      "source": [
        "# Matching a story and a distribution\n",
        "How might we expect the time between Major League no-hitters to be distributed? Be careful here: a few exercises ago, we considered the probability distribution for the number of no-hitters in a season. Now, we are looking at the probability distribution of the time between no hitters.\n",
        "\n",
        "_A:_ Normal\n"
      ]
    },
    {
      "cell_type": "markdown",
      "metadata": {
        "id": "Ux3Oy25lnjfp",
        "colab_type": "text"
      },
      "source": [
        "# Waiting for the next Secretariat\n",
        "Unfortunately, Justin was not alive when Secretariat ran the Belmont in 1973. Do you think he will get to see a performance like that? To answer this, you are interested in how many years you would expect to wait until you see another performance like Secretariat's. How is the waiting time until the next performance as good or better than Secretariat's distributed? Choose the best answer.\n",
        "\n",
        "_A:_ Normal, because the distribution of Belmont winning times are Normally distributed.\n"
      ]
    },
    {
      "cell_type": "markdown",
      "metadata": {
        "id": "fP5k8_f4ntvH",
        "colab_type": "text"
      },
      "source": [
        "# If you have a story, you can simulate it!\n",
        "Sometimes, the story describing our probability distribution does not have a named distribution to go along with it. In these cases, fear not! You can always simulate it. We'll do that in this and the next exercise.\n",
        "\n",
        "In earlier exercises, we looked at the rare event of no-hitters in Major League Baseball. Hitting the cycle is another rare baseball event. When a batter hits the cycle, he gets all four kinds of hits, a single, double, triple, and home run, in a single game. Like no-hitters, this can be modeled as a Poisson process, so the time between hits of the cycle are also Exponentially distributed.\n",
        "\n",
        "How long must we wait to see both a no-hitter and then a batter hit the cycle? The idea is that we have to wait some time for the no-hitter, and then after the no-hitter, we have to wait for hitting the cycle. Stated another way, what is the total waiting time for the arrival of two different Poisson processes? The total waiting time is the time waited for the no-hitter, plus the time waited for the hitting the cycle.\n",
        "\n",
        "Now, you will write a function to sample out of the distribution described by this story."
      ]
    },
    {
      "cell_type": "code",
      "metadata": {
        "id": "XozTDvJuoGcn",
        "colab_type": "code",
        "colab": {}
      },
      "source": [
        "def successive_poisson(tau1, tau2, size=1):\n",
        "    \"\"\"Compute time for arrival of 2 successive Poisson processes.\"\"\"\n",
        "    # Draw samples out of first exponential distribution: t1\n",
        "    t1 = np.random.exponential(tau1,size)\n",
        "\n",
        "    # Draw samples out of second exponential distribution: t2\n",
        "    t2 = np.random.exponential(tau2,size)\n",
        "\n",
        "    return t1 + t2"
      ],
      "execution_count": null,
      "outputs": []
    },
    {
      "cell_type": "markdown",
      "metadata": {
        "id": "L3DeM7njoIBR",
        "colab_type": "text"
      },
      "source": [
        "# Distribution of no-hitters and cycles\n",
        "Now, you'll use your sampling function to compute the waiting time to observe a no-hitter and hitting of the cycle. The mean waiting time for a no-hitter is 764 games, and the mean waiting time for hitting the cycle is 715 games."
      ]
    },
    {
      "cell_type": "code",
      "metadata": {
        "id": "QfqLWriRodhe",
        "colab_type": "code",
        "colab": {}
      },
      "source": [
        "def successive_poisson(tau1, tau2, size=1):\n",
        "    \"\"\"Compute time for arrival of 2 successive Poisson processes.\"\"\"\n",
        "    # Draw samples out of first exponential distribution: t1\n",
        "    t1 = np.random.exponential(tau1,size)\n",
        "\n",
        "    # Draw samples out of second exponential distribution: t2\n",
        "    t2 = np.random.exponential(tau2,size)\n",
        "\n",
        "    return t1 + t2\n",
        "\n",
        "# Draw samples of waiting times: waiting_times\n",
        "waiting_times = successive_poisson(764, 715, 100000)\n",
        "\n",
        "# Make the histogram\n",
        "plt.hist(waiting_times, bins=100, normed=True, histtype='step')\n",
        "\n",
        "# Label axes\n",
        "plt.xlabel('waiting time in number of games')\n",
        "plt.ylabel('percentage')\n",
        "\n",
        "\n",
        "# Show the plot\n",
        "plt.show()"
      ],
      "execution_count": null,
      "outputs": []
    }
  ]
}