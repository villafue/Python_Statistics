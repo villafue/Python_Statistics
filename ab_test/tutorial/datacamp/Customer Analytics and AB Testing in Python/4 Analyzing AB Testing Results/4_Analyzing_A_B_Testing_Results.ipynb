{
  "nbformat": 4,
  "nbformat_minor": 0,
  "metadata": {
    "colab": {
      "name": "4 Analyzing A/B Testing Results.ipynb",
      "provenance": [],
      "authorship_tag": "ABX9TyMblCDTs+50kO7KuWOqRUkK",
      "include_colab_link": true
    },
    "kernelspec": {
      "name": "python3",
      "display_name": "Python 3"
    },
    "language_info": {
      "name": "python"
    }
  },
  "cells": [
    {
      "cell_type": "markdown",
      "metadata": {
        "id": "view-in-github",
        "colab_type": "text"
      },
      "source": [
        "<a href=\"https://colab.research.google.com/github/villafue/Python_Statistics/blob/master/ab_test/tutorial/datacamp/Customer%20Analytics%20and%20AB%20Testing%20in%20Python/4%20Analyzing%20AB%20Testing%20Results/4_Analyzing_A_B_Testing_Results.ipynb\" target=\"_parent\"><img src=\"https://colab.research.google.com/assets/colab-badge.svg\" alt=\"Open In Colab\"/></a>"
      ]
    },
    {
      "cell_type": "markdown",
      "metadata": {
        "id": "5vLt-17GIWF0"
      },
      "source": [
        "# Analyzing A/B Testing Results\n",
        "\n",
        "After running an A/B test, you must analyze the data and then effectively communicate the results. This chapter begins by interleaving the theory of statistical significance and confidence intervals with the tools you need to calculate them yourself from the data. Next we discuss how to effectively visualize and communicate these results. This chapter is the culmination of all the knowledge built over the entire course."
      ]
    },
    {
      "cell_type": "code",
      "metadata": {
        "id": "EJgoHyCRIChG"
      },
      "source": [
        ""
      ],
      "execution_count": null,
      "outputs": []
    }
  ]
}