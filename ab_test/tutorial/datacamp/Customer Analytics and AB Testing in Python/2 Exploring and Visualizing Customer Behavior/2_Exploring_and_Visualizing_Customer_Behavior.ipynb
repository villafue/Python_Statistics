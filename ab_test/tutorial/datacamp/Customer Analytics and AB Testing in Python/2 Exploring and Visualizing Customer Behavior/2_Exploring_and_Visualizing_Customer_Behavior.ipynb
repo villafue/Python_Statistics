{
  "nbformat": 4,
  "nbformat_minor": 0,
  "metadata": {
    "colab": {
      "name": "2 Exploring and Visualizing Customer Behavior.ipynb",
      "provenance": [],
      "authorship_tag": "ABX9TyMluYsI/qPbQuoKhDoK+MIy",
      "include_colab_link": true
    },
    "kernelspec": {
      "name": "python3",
      "display_name": "Python 3"
    },
    "language_info": {
      "name": "python"
    }
  },
  "cells": [
    {
      "cell_type": "markdown",
      "metadata": {
        "id": "view-in-github",
        "colab_type": "text"
      },
      "source": [
        "<a href=\"https://colab.research.google.com/github/villafue/Python_Statistics/blob/master/ab_test/tutorial/datacamp/Customer%20Analytics%20and%20AB%20Testing%20in%20Python/2%20Exploring%20and%20Visualizing%20Customer%20Behavior/2_Exploring_and_Visualizing_Customer_Behavior.ipynb\" target=\"_parent\"><img src=\"https://colab.research.google.com/assets/colab-badge.svg\" alt=\"Open In Colab\"/></a>"
      ]
    },
    {
      "cell_type": "markdown",
      "metadata": {
        "id": "XmZufhjmX54N"
      },
      "source": [
        "# Exploring and Visualizing Customer Behavior\n",
        "\n",
        "This chapter teaches you how to visualize, manipulate, and explore KPIs as they change over time. Through a variety of examples, you'll learn how to work with datetime objects to calculate metrics per unit time. Then we move to the techniques for how to graph different segments of data, and apply various smoothing functions to reveal hidden trends. Finally we walk through a complete example of how to pinpoint issues through exploratory data analysis of customer data. Throughout this chapter various functions are introduced and explained in a highly generalizable way."
      ]
    },
    {
      "cell_type": "code",
      "metadata": {
        "id": "twQTVBvsRSB-"
      },
      "source": [
        ""
      ],
      "execution_count": null,
      "outputs": []
    }
  ]
}