{
  "nbformat": 4,
  "nbformat_minor": 0,
  "metadata": {
    "colab": {
      "name": "1 Key Performance Indicators: Measuring Business Success.ipynb",
      "provenance": [],
      "authorship_tag": "ABX9TyNgPhVygjqsAlORPrjVnCDR",
      "include_colab_link": true
    },
    "kernelspec": {
      "name": "python3",
      "display_name": "Python 3"
    },
    "language_info": {
      "name": "python"
    }
  },
  "cells": [
    {
      "cell_type": "markdown",
      "metadata": {
        "id": "view-in-github",
        "colab_type": "text"
      },
      "source": [
        "<a href=\"https://colab.research.google.com/github/villafue/Python_Statistics/blob/master/ab_test/tutorial/datacamp/Customer%20Analytics%20and%20AB%20Testing%20in%20Python/1%20Key%20Performance%20Indicators%3A%20Measuring%20Business%20Success/1_Key_Performance_Indicators_Measuring_Business_Success.ipynb\" target=\"_parent\"><img src=\"https://colab.research.google.com/assets/colab-badge.svg\" alt=\"Open In Colab\"/></a>"
      ]
    },
    {
      "cell_type": "markdown",
      "metadata": {
        "id": "ylH4d0jHsyCB"
      },
      "source": [
        "# Key Performance Indicators: Measuring Business Success\n",
        "\n",
        "This chapter provides a brief introduction to the content that will be covered throughout the course before transitioning into a discussion of Key Performance Indicators or KPIs. You'll learn how to identify and define meaningful KPIs through a combination of critical thinking and leveraging Python tools. These techniques are all presented in a highly practical and generalizable way. Ultimately these topics serve as the core foundation for the A/B testing discussion that follows."
      ]
    },
    {
      "cell_type": "code",
      "metadata": {
        "id": "7bxt3DFmswmW"
      },
      "source": [
        ""
      ],
      "execution_count": null,
      "outputs": []
    }
  ]
}