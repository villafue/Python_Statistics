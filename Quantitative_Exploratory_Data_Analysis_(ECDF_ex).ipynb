{
  "nbformat": 4,
  "nbformat_minor": 0,
  "metadata": {
    "colab": {
      "name": "Quantitative Exploratory Data Analysis (ECDF ex).ipynb",
      "provenance": [],
      "toc_visible": true,
      "authorship_tag": "ABX9TyMSim+CmV8xL5TAPFBBmuag",
      "include_colab_link": true
    },
    "kernelspec": {
      "name": "python3",
      "display_name": "Python 3"
    }
  },
  "cells": [
    {
      "cell_type": "markdown",
      "metadata": {
        "id": "view-in-github",
        "colab_type": "text"
      },
      "source": [
        "<a href=\"https://colab.research.google.com/github/villafue/Python_Statistics/blob/master/Quantitative_Exploratory_Data_Analysis_(ECDF_ex).ipynb\" target=\"_parent\"><img src=\"https://colab.research.google.com/assets/colab-badge.svg\" alt=\"Open In Colab\"/></a>"
      ]
    },
    {
      "cell_type": "markdown",
      "metadata": {
        "id": "ezLaqv2v_lWt",
        "colab_type": "text"
      },
      "source": [
        "# Computing means\n",
        "The mean of all measurements gives an indication of the typical magnitude of a measurement. It is computed using np.mean()."
      ]
    },
    {
      "cell_type": "code",
      "metadata": {
        "id": "0BtTl3Nt-wnk",
        "colab_type": "code",
        "colab": {}
      },
      "source": [
        "# Compute the mean: mean_length_vers\n",
        "mean_length_vers = np.mean(versicolor_petal_length)\n",
        "\n",
        "# Print the result with some nice formatting\n",
        "print('I. versicolor:', mean_length_vers, 'cm')\n",
        "\n"
      ],
      "execution_count": null,
      "outputs": []
    },
    {
      "cell_type": "markdown",
      "metadata": {
        "id": "3Ib6Dfb5_tV9",
        "colab_type": "text"
      },
      "source": [
        "# Computing percentiles\n",
        "In this exercise, you will compute the percentiles of petal length of Iris versicolor.\n",
        "\n",
        "Create percentiles, a NumPy array of percentiles you want to compute. These are the 2.5th, 25th, 50th, 75th, and 97.5th. You can do so by creating a list containing these ints/floats and convert the list to a NumPy array using np.array(). \n",
        "\n",
        "For example, np.array([30, 50]) would create an array consisting of the 30th and 50th percentiles.\n",
        "\n",
        "Use np.percentile() to compute the percentiles\n"
      ]
    },
    {
      "cell_type": "code",
      "metadata": {
        "id": "OUASsICYAl82",
        "colab_type": "code",
        "colab": {}
      },
      "source": [
        "# Specify array of percentiles: percentiles\n",
        "percentiles = np.array([2.5, 25, 50, 75, 97.5])\n",
        "\n",
        "# Compute percentiles: ptiles_vers\n",
        "ptiles_vers = np.percentile(versicolor_petal_length, percentiles)\n",
        "\n",
        "# Print the result\n",
        "print(ptiles_vers)"
      ],
      "execution_count": null,
      "outputs": []
    },
    {
      "cell_type": "markdown",
      "metadata": {
        "id": "T9ea50uWA9cc",
        "colab_type": "text"
      },
      "source": [
        "# Comparing percentiles to ECDF\n",
        "\n",
        "To see how the percentiles relate to the ECDF, you will plot the percentiles of Iris versicolor petal lengths you calculated in the last exercise on the ECDF plot you generated in chapter 1. \n",
        "\n",
        "The percentile variables from the previous exercise are available in the workspace as ptiles_vers and percentiles.\n",
        "\n",
        "Note that to ensure the Y-axis of the ECDF plot remains between 0 and 1, you will need to rescale the percentiles array accordingly - in this case, dividing it by 100.\n",
        "\n",
        "Plot the percentiles as red diamonds on the ECDF. \n",
        "\n",
        "Pass the x and y co-ordinates - ptiles_vers and percentiles/100 - as positional arguments and specify the marker='D', color='red' and linestyle='none' keyword arguments. \n",
        "\n",
        "The argument for the y-axis - percentiles/100 has been specified for you."
      ]
    },
    {
      "cell_type": "code",
      "metadata": {
        "id": "jF2EtRilBMyG",
        "colab_type": "code",
        "colab": {}
      },
      "source": [
        "# Plot the ECDF\n",
        "_ = plt.plot(x_vers, y_vers, '.')\n",
        "_ = plt.xlabel('petal length (cm)')\n",
        "_ = plt.ylabel('ECDF')\n",
        "\n",
        "# Specify array of percentiles: percentiles\n",
        "percentiles = np.array([2.5, 25, 50, 75, 97.5])\n",
        "\n",
        "# Compute percentiles: ptiles_vers\n",
        "ptiles_vers = np.percentile(versicolor_petal_length, percentiles)\n",
        "\n",
        "# Overlay percentiles as red diamonds.\n",
        "_ = plt.plot(ptiles_vers, percentiles/100, marker='D', color='red',\n",
        "         linestyle='none')\n",
        "\n",
        "# Show the plot\n",
        "plt.show()"
      ],
      "execution_count": null,
      "outputs": []
    },
    {
      "cell_type": "markdown",
      "metadata": {
        "id": "8boS2vvmBllz",
        "colab_type": "text"
      },
      "source": [
        "# Box-and-whisker plot\n",
        "Making a box plot for the petal lengths is unnecessary because the iris data set is not too large and the bee swarm plot works fine. However, it is always good to get some practice. Make a box plot of the iris petal lengths. You have a pandas DataFrame, df, which contains the petal length data, in your namespace. Inspect the data frame df in the IPython shell using df.head() to make sure you know what the pertinent columns are.\n",
        "\n",
        "For your reference, the code used to produce the box plot in the video is provided below:\n",
        "\n",
        "_ = sns.boxplot(x='east_west', y='dem_share', data=df_all_states)\n",
        "\n",
        "_ = plt.xlabel('region')\n",
        "\n",
        "_ = plt.ylabel('percent of vote for Obama')\n",
        "\n",
        "In the IPython Shell, you can use sns.boxplot? or help(sns.boxplot) for more details on how to make box plots using seaborn."
      ]
    },
    {
      "cell_type": "code",
      "metadata": {
        "id": "T3Df0XShBtLo",
        "colab_type": "code",
        "colab": {}
      },
      "source": [
        "# Create box plot with Seaborn's default settings\n",
        "_ = sns.boxplot(x='species', y='petal length (cm)', data=df)\n",
        "\n",
        "# Label the axes\n",
        "_ = plt.xlabel('Species')\n",
        "_ = plt.ylabel('Petal Length (cm)')\n",
        "\n",
        "# Show the plot\n",
        "plt.show()"
      ],
      "execution_count": null,
      "outputs": []
    },
    {
      "cell_type": "markdown",
      "metadata": {
        "id": "WTdcKPq-B0T3",
        "colab_type": "text"
      },
      "source": [
        "# Computing the variance\n",
        "It is important to have some understanding of what commonly-used functions are doing under the hood. Though you may already know how to compute variances, this is a beginner course that does not assume so. In this exercise, we will explicitly compute the variance of the petal length of Iris veriscolor using the equations discussed in the videos. We will then use np.var() to compute it."
      ]
    },
    {
      "cell_type": "code",
      "metadata": {
        "id": "YOICr0PlCUVx",
        "colab_type": "code",
        "colab": {}
      },
      "source": [
        "# Array of differences to mean: differences\n",
        "differences = versicolor_petal_length - np.mean(versicolor_petal_length)\n",
        "\n",
        "# Square the differences: diff_sq\n",
        "diff_sq = differences ** 2\n",
        "\n",
        "# Compute the mean square difference: variance_explicit\n",
        "variance_explicit = np.mean(diff_sq)\n",
        "\n",
        "# Compute the variance using NumPy: variance_np\n",
        "variance_np = np.var(versicolor_petal_length)\n",
        "\n",
        "# Print the results\n",
        "print(variance_explicit, variance_np)"
      ],
      "execution_count": null,
      "outputs": []
    },
    {
      "cell_type": "markdown",
      "metadata": {
        "id": "8c_D-rOBCdpn",
        "colab_type": "text"
      },
      "source": [
        "# The standard deviation and the variance\n",
        "As mentioned in the video, the standard deviation is the square root of the variance. You will see this for yourself by computing the standard deviation using np.std() and comparing it to what you get by computing the variance with np.var() and then computing the square root."
      ]
    },
    {
      "cell_type": "code",
      "metadata": {
        "id": "ALCU3IAxCgym",
        "colab_type": "code",
        "colab": {}
      },
      "source": [
        "# Compute the variance: variance\n",
        "variance = np.var(versicolor_petal_length)\n",
        "\n",
        "# Print the square root of the variance\n",
        "print(np.sqrt(variance))\n",
        "\n",
        "# Print the standard deviation\n",
        "print(np.std(versicolor_petal_length))"
      ],
      "execution_count": null,
      "outputs": []
    },
    {
      "cell_type": "markdown",
      "metadata": {
        "id": "hFc-GvXUCka-",
        "colab_type": "text"
      },
      "source": [
        "# Scatter plots\n",
        "When you made bee swarm plots, box plots, and ECDF plots in previous exercises, you compared the petal lengths of different species of iris. But what if you want to compare two properties of a single species? This is exactly what we will do in this exercise. We will make a scatter plot of the petal length and width measurements of Anderson's Iris versicolor flowers. If the flower scales (that is, it preserves its proportion as it grows), we would expect the length and width to be correlated.\n",
        "\n",
        "For your reference, the code used to produce the scatter plot in the video is provided below:\n",
        "\n",
        "_ = plt.plot(total_votes/1000, dem_share, marker='.', linestyle='none')\n",
        "\n",
        "_ = plt.xlabel('total votes (thousands)')\n",
        "\n",
        "_ = plt.ylabel('percent of vote for Obama')"
      ]
    },
    {
      "cell_type": "code",
      "metadata": {
        "id": "uBmse1xjDpox",
        "colab_type": "code",
        "colab": {}
      },
      "source": [
        "# Make a scatter plot\n",
        "_ = plt.plot(versicolor_petal_length, versicolor_petal_width, marker='.', linestyle='none')\n",
        "\n",
        "# Label the axes\n",
        "_ = plt.xlabel('Petal Length') \n",
        "_ = plt.ylabel('Petal Width') \n",
        "\n",
        "# Show the result\n",
        "plt.show()"
      ],
      "execution_count": null,
      "outputs": []
    },
    {
      "cell_type": "markdown",
      "metadata": {
        "id": "FhM5wSccD0rY",
        "colab_type": "text"
      },
      "source": [
        "# Computing the covariance\n",
        "The covariance may be computed using the Numpy function np.cov(). For example, we have two sets of data x and y, np.cov(x, y) returns a 2D array where entries [0,1] and [1,0] are the covariances. Entry [0,0] is the variance of the data in x, and entry [1,1] is the variance of the data in y. This 2D output array is called the covariance matrix, since it organizes the self- and covariance."
      ]
    },
    {
      "cell_type": "code",
      "metadata": {
        "id": "exNRCawjD6z8",
        "colab_type": "code",
        "colab": {}
      },
      "source": [
        "# Compute the covariance matrix: covariance_matrix\n",
        "covariance_matrix = np.cov(versicolor_petal_length, versicolor_petal_width)\n",
        "\n",
        "# Print covariance matrix\n",
        "print(covariance_matrix)\n",
        "\n",
        "# Extract covariance of length and width of petals: petal_cov\n",
        "petal_cov = covariance_matrix[0,1]\n",
        "\n",
        "# Print the length/width covariance\n",
        "print(petal_cov)"
      ],
      "execution_count": null,
      "outputs": []
    },
    {
      "cell_type": "markdown",
      "metadata": {
        "id": "qgoh3gYnED-I",
        "colab_type": "text"
      },
      "source": [
        "# Computing the Pearson correlation coefficient\n",
        "As mentioned in the video, the Pearson correlation coefficient, also called the Pearson r, is often easier to interpret than the covariance. It is computed using the np.corrcoef() function. Like np.cov(), it takes two arrays as arguments and returns a 2D array. Entries [0,0] and [1,1] are necessarily equal to 1 (can you think about why?), and the value we are after is entry [0,1].\n",
        "\n",
        "In this exercise, you will write a function, pearson_r(x, y) that takes in two arrays and returns the Pearson correlation coefficient. You will then use this function to compute it for the petal lengths and widths of I. versicolor."
      ]
    },
    {
      "cell_type": "code",
      "metadata": {
        "id": "6FnWdOPmESXK",
        "colab_type": "code",
        "colab": {}
      },
      "source": [
        "def pearson_r(x, y):\n",
        "    \"\"\"Compute Pearson correlation coefficient between two arrays.\"\"\"\n",
        "    \n",
        "    # Compute correlation matrix: corr_mat\n",
        "    corr_mat = np.corrcoef(x,y)\n",
        "\n",
        "    # Return entry [0,1]\n",
        "    return corr_mat[0,1]\n",
        "\n",
        "# Compute Pearson correlation coefficient for I. versicolor: r\n",
        "r = pearson_r(versicolor_petal_length, versicolor_petal_width)\n",
        "\n",
        "# Print the result\n",
        "print(r)"
      ],
      "execution_count": null,
      "outputs": []
    }
  ]
}