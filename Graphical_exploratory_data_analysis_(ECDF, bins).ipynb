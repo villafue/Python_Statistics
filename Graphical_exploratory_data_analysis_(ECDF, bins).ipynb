{
  "nbformat": 4,
  "nbformat_minor": 0,
  "metadata": {
    "colab": {
      "name": "Untitled3.ipynb",
      "provenance": [],
      "toc_visible": true,
      "authorship_tag": "ABX9TyMgj3WyAalial5/qz0r4Juo",
      "include_colab_link": true
    },
    "kernelspec": {
      "name": "python3",
      "display_name": "Python 3"
    }
  },
  "cells": [
    {
      "cell_type": "markdown",
      "metadata": {
        "id": "view-in-github",
        "colab_type": "text"
      },
      "source": [
        "<a href=\"https://colab.research.google.com/github/villafue/Python_Statistics/blob/master/Graphical_exploratory_data_analysis_(ECDF%2C%20bins).ipynb\" target=\"_parent\"><img src=\"https://colab.research.google.com/assets/colab-badge.svg\" alt=\"Open In Colab\"/></a>"
      ]
    },
    {
      "cell_type": "markdown",
      "metadata": {
        "id": "kHpMRHPaRUoz",
        "colab_type": "text"
      },
      "source": [
        "# Plotting a histogram of iris data\n",
        "\n",
        "For the exercises in this section, you will use a classic data set collected by botanist Edward Anderson and made famous by Ronald Fisher, one of the most prolific statisticians in history. Anderson carefully measured the anatomical properties of samples of three different species of iris, Iris setosa, Iris versicolor, and Iris virginica. The full data set is available as part of scikit-learn. Here, you will work with his measurements of petal length.\n",
        "\n",
        "Plot a histogram of the petal lengths of his 50 samples of Iris versicolor using matplotlib/seaborn's default settings. Recall that to specify the default seaborn style, you can use sns.set(), where sns is the alias that seaborn is imported as.\n",
        "\n",
        "The subset of the data set containing the Iris versicolor petal lengths in units of centimeters (cm) is stored in the NumPy array versicolor_petal_length.\n",
        "\n",
        "In the video, Justin plotted the histograms by using the pandas library and indexing the DataFrame to extract the desired column. Here, however, you only need to use the provided NumPy array. Also, Justin assigned his plotting statements (except for plt.show()) to the dummy variable _. This is to prevent unnecessary output from being displayed. It is not required for your solutions to these exercises, however it is good practice to use it. Alternatively, if you are working in an interactive environment such as a Jupyter notebook, you could use a ; after your plotting statements to achieve the same effect. Justin prefers using _. Therefore, you will see it used in the solution code."
      ]
    },
    {
      "cell_type": "code",
      "metadata": {
        "id": "N4ojMsPORexH",
        "colab_type": "code",
        "colab": {}
      },
      "source": [
        "# Import plotting modules\n",
        "import matplotlib.pyplot as plt\n",
        "import seaborn as sns\n",
        "\n",
        "# Set default Seaborn style\n",
        "sns.set()\n",
        "\n",
        "# Plot histogram of versicolor petal lengths\n",
        "_ = plt.hist(versicolor_petal_length)\n",
        "\n",
        "# Show histogram\n",
        "plt.show()"
      ],
      "execution_count": null,
      "outputs": []
    },
    {
      "cell_type": "markdown",
      "metadata": {
        "id": "aCu_MJegRi_F",
        "colab_type": "text"
      },
      "source": [
        "# Axis labels!\n",
        "\n",
        "In the last exercise, you made a nice histogram of petal lengths of Iris versicolor, but you didn't label the axes! That's ok; it's not your fault since we didn't ask you to. Now, add axis labels to the plot using plt.xlabel() and plt.ylabel(). Don't forget to add units and assign both statements to _. The packages matplotlib.pyplot and seaborn are already imported with their standard aliases. This will be the case in what follows, unless specified otherwise."
      ]
    },
    {
      "cell_type": "code",
      "metadata": {
        "id": "9OiclZ9PRrLx",
        "colab_type": "code",
        "colab": {}
      },
      "source": [
        "# Plot histogram of versicolor petal lengths\n",
        "_ = plt.hist(versicolor_petal_length)\n",
        "\n",
        "# Label axes\n",
        "_ = plt.xlabel('petal length (cm)')\n",
        "_ = plt.ylabel('count')\n",
        "\n",
        "# Show histogram\n",
        "plt.show()\n"
      ],
      "execution_count": null,
      "outputs": []
    },
    {
      "cell_type": "markdown",
      "metadata": {
        "id": "T6A6GrgIR3fp",
        "colab_type": "text"
      },
      "source": [
        "# Adjusting the number of bins in a histogram\n",
        "\n",
        "The histogram you just made had ten bins. This is the default of matplotlib. The \"square root rule\" is a commonly-used rule of thumb for choosing number of bins: choose the number of bins to be the square root of the number of samples. Plot the histogram of Iris versicolor petal lengths again, this time using the square root rule for the number of bins. You specify the number of bins using the bins keyword argument of plt.hist().\n",
        "\n",
        "The plotting utilities are already imported and the seaborn defaults already set. The variable you defined in the last exercise, versicolor_petal_length, is already in your namespace."
      ]
    },
    {
      "cell_type": "code",
      "metadata": {
        "id": "hgeWcud5R7VJ",
        "colab_type": "code",
        "colab": {}
      },
      "source": [
        "# Import numpy\n",
        "import numpy as np\n",
        "\n",
        "# Compute number of data points: n_data\n",
        "n_data = len(versicolor_petal_length)\n",
        "\n",
        "# Number of bins is the square root of number of data points: n_bins\n",
        "np.sqrt(50)\n",
        "\n",
        "# Convert number of bins to integer: n_bins\n",
        "n_bins = int(np.sqrt(50))\n",
        "\n",
        "# Plot the histogram\n",
        "_ = plt.hist(versicolor_petal_length, bins=n_bins)\n",
        "\n",
        "# Label axes\n",
        "_ = plt.xlabel('petal length (cm)')\n",
        "_ = plt.ylabel('count')\n",
        "\n",
        "# Show histogram\n",
        "plt.show()"
      ],
      "execution_count": null,
      "outputs": []
    },
    {
      "cell_type": "markdown",
      "metadata": {
        "id": "qClwMPt7R6Pr",
        "colab_type": "text"
      },
      "source": [
        "# Bee swarm plot\n",
        "Make a bee swarm plot of the iris petal lengths. Your x-axis should contain each of the three species, and the y-axis the petal lengths. A data frame containing the data is in your namespace as df.\n",
        "\n",
        "For your reference, the code Justin used to create the bee swarm plot in the video is provided below:\n",
        "\n",
        "_ = sns.swarmplot(x='state', y='dem_share', data=df_swing)\n",
        "_ = plt.xlabel('state')\n",
        "_ = plt.ylabel('percent of vote for Obama')\n",
        "plt.show()\n",
        "\n",
        "In the IPython Shell, you can use sns.swarmplot? or help(sns.swarmplot) for more details on how to make bee swarm plots using seaborn."
      ]
    },
    {
      "cell_type": "code",
      "metadata": {
        "id": "h8HCVo1eSdcB",
        "colab_type": "code",
        "colab": {}
      },
      "source": [
        "# Create bee swarm plot with Seaborn's default settings\n",
        "_ = sns.swarmplot(x='species', y='petal length (cm)', data=df)\n",
        "\n",
        "# Label the axes\n",
        "_ = plt.xlabel('species')\n",
        "_ = plt.ylabel('petal length (cm)')\n",
        "\n",
        "# Show the plot\n",
        "plt.show()"
      ],
      "execution_count": null,
      "outputs": []
    },
    {
      "cell_type": "markdown",
      "metadata": {
        "id": "ngQ35cWXSm0e",
        "colab_type": "text"
      },
      "source": [
        "# Computing the ECDF\n",
        "In this exercise, you will write a function that takes as input a 1D array of data and then returns the x and y values of the ECDF. You will use this function over and over again throughout this course and its sequel. ECDFs are among the most important plots in statistical analysis. You can write your own function, foo(x,y) according to the following skeleton:\n",
        "\n",
        "def foo(a,b):\n",
        "    \"\"\"State what function does here\"\"\"\n",
        "    # Computation performed here\n",
        "    return x, y\n",
        "    \n",
        "The function foo() above takes two arguments a and b and returns two values x and y. The function header def foo(a,b): contains the function signature foo(a,b), which consists of the function name, along with its parameters."
      ]
    },
    {
      "cell_type": "code",
      "metadata": {
        "id": "DxAUO4A4T3ig",
        "colab_type": "code",
        "colab": {}
      },
      "source": [
        "def ecdf(data):\n",
        "    \"\"\"Compute ECDF for a one-dimensional array of measurements.\"\"\"\n",
        "    # Number of data points: n\n",
        "    n = len(data)\n",
        "\n",
        "    # x-data for the ECDF: x\n",
        "    x = np.sort(data)\n",
        "\n",
        "    # y-data for the ECDF: y\n",
        "    y = np.arange(1, n+1) / n\n",
        "\n",
        "    return x, y"
      ],
      "execution_count": null,
      "outputs": []
    },
    {
      "cell_type": "markdown",
      "metadata": {
        "id": "ngmFtqGsUU0y",
        "colab_type": "text"
      },
      "source": [
        "# Plotting the ECDF\n",
        "\n",
        "You will now use your ecdf() function to compute the ECDF for the petal lengths of Anderson's Iris versicolor flowers. You will then plot the ECDF. Recall that your ecdf() function returns two arrays so you will need to unpack them. An example of such unpacking is x, y = foo(data), for some function foo()."
      ]
    },
    {
      "cell_type": "code",
      "metadata": {
        "id": "PQuF1I13Ukyn",
        "colab_type": "code",
        "colab": {}
      },
      "source": [
        "# Compute ECDF for versicolor data: x_vers, y_vers\n",
        "x_vers, y_vers = ecdf(versicolor_petal_length)\n",
        "\n",
        "# Generate plot\n",
        "_ = plt.plot(x_vers, y_vers, marker='.', linestyle='none')\n",
        "\n",
        "plt.margins(0,0.2)\n",
        "\n",
        "# Label the axes\n",
        "_ = plt.xlabel('percent of petal length')\n",
        "_ = plt.ylabel('ECDF')\n",
        "\n",
        "# Display the plot\n",
        "plt.show()"
      ],
      "execution_count": null,
      "outputs": []
    },
    {
      "cell_type": "markdown",
      "metadata": {
        "id": "aIMAhSd-Ux1m",
        "colab_type": "text"
      },
      "source": [
        "# Comparison of ECDFs\n",
        "ECDFs also allow you to compare two or more distributions (though plots get cluttered if you have too many). Here, you will plot ECDFs for the petal lengths of all three iris species. You already wrote a function to generate ECDFs so you can put it to good use!\n",
        "\n",
        "To overlay all three ECDFs on the same plot, you can use plt.plot() three times, once for each ECDF. Remember to include marker='.' and linestyle='none' as arguments inside plt.plot()."
      ]
    },
    {
      "cell_type": "code",
      "metadata": {
        "id": "KR0xfZ8rU_vP",
        "colab_type": "code",
        "colab": {}
      },
      "source": [
        "# Compute ECDFs\n",
        "def ecdf(data):\n",
        "    \"\"\"Compute ECDF for a one-dimensional array of measurements.\"\"\"\n",
        "    n = len(data)\n",
        "    x = np.sort(data)\n",
        "    y = np.arange(1, n+1) / n\n",
        "    return x, y\n",
        "\n",
        "# Plot all ECDFs on the same plot\n",
        "x_vers, y_vers = ecdf(versicolor_petal_length)\n",
        "x_set, y_set = ecdf(setosa_petal_length)\n",
        "x_virg, y_virg = ecdf(virginica_petal_length)\n",
        "\n",
        "_ = plt.plot(x_set, y_set, marker='.', linestyle='none')\n",
        "_ = plt.plot(x_vers, y_vers, marker='.', linestyle='none')\n",
        "_ = plt.plot(x_virg, y_virg, marker='.', linestyle='none')\n",
        "plt.margins(0,0.2)\n",
        "\n",
        "# Annotate the plot\n",
        "plt.legend(('setosa', 'versicolor', 'virginica'), loc='lower right')\n",
        "_ = plt.xlabel('petal length (cm)')\n",
        "_ = plt.ylabel('ECDF')\n",
        "\n",
        "# Display the plot\n",
        "plt.show()"
      ],
      "execution_count": null,
      "outputs": []
    }
  ]
}